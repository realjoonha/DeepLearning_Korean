{
 "cells": [
  {
   "cell_type": "markdown",
   "metadata": {},
   "source": [
    "## 1. 환경 설정\n",
    "\n",
    "1-1. 소개\n",
    "\n",
    "오늘날의 주요한 인공지능들은 머신러닝 machine learning (기계학습)의 방법으로 구현된다. 머신러닝은 데이터에 내재된 규칙이나 패턴을 찾아서 모델을 학습하고, 그 학습된 모델을 기반으로 새로운 데이터의 특성을 예측하는 방법이다. 본 교재의 실습 부분에서는 이러한 머신러닝을 구현하기 위한 방법들을 연습하고, 첫번째 장에서 실습을 위한 환경을 설정한다.\n",
    "\n",
    "머신러닝을 구현하는 방법은 매우 다양하다. 프로그래밍 언어의 선택, 라이브러리나 패키지의 선택, 통합개발환경 (IDE) 등에서 선택지가 많지만 본 교재에서는 이들 중에서 Python-TensorFlow-Jupyter Notebook의 조합으로 실습한다.\n",
    "\n",
    "Python은 그 유연함과 코딩의 편리함으로 인해 머신러닝 뿐 아니라 광범위한 분야에서 사용되는 컴퓨터 언어이다. Python에서는 수리계산과 머신러닝을 위한 Numpy, Scipy, Scikit-Learn, Pandas, TensorFlow 등의 패키지가 오픈소스로 제공되어 설치한 후 활용할 수 있다. Python은 특히 결과물을 다른 언어에서 사용하거나 머신러닝의 결과를 직접 활용할 수 있다는 점에서 각광받고 있다.\n",
    "\n",
    "TensorFlow는 구글에서 개발한 머신러닝/딥러닝 용 패키지이다. 로우레벨부터 하이레벨까지 선택적으로 사용할 수 있고, 확장성을 가지고 있다. TensorFlow를 사용하면 비교적 간단하게 Neural Network을 설계, 훈련 및 평가를 할 수 있다.\n",
    "\n",
    "Jupyter Notebook은 Browser에 기반한 유연한 IDE다. 코드 뿐 아니라 HTML, MarkDown 같은 인터넷 언어, 그림, 멀티미디어 환경을 통합할 수 있다. 또 코드 전체를 한꺼번에 돌리기보다 코드를 셀(cell) 단위로 나누어 하여, 논리의 흐름과 구조를 보다 명확하게 할 수 있다."
   ]
  },
  {
   "cell_type": "markdown",
   "metadata": {},
   "source": [
    "1-2. Python + 관련 패키지 통합 설치 (Anaconda를 이용)\n",
    "\n",
    "본 실습에 사용되는 패키지는 본래 Python을 설치한 후에 하나 하나 수동으로 설치할 수 있지만, 본 교재에서는 설치의 편의를 위해서 Python과 머신 러닝 관련 패키지들을 한꺼번에 설치하고 관리해주는 Anaconda라는 프로그램을 통해서 설치하자. Anaconda는 다음의 웹사이트에 가서 다운로드 받는다. Windows 사용자들은 메인 화면에서 윈도우즈 로고를 클릭해서 다운로드 받은 후에 설치하자. Python 3.6 버전과 2.7 버전이 있는데, 이 중에서 3.6 버전을 다운로드 받으면 된다.\n",
    "\n",
    "Anaconda 사이트: https://www.continuum.io/downloads"
   ]
  },
  {
   "cell_type": "markdown",
   "metadata": {},
   "source": [
    "1-3. Command Line에서 환경설정 및 TensorFlow 설치\n",
    "\n",
    "위에서 Anaconda 설치가 다 끝났으면, 커맨드 라인을 실행하자. 윈도우즈 사용자들은 홈버튼을 눌러서 cmd를 입력하면 찾을 수 있다. 커맨드 라인의 프롬프트가 뜨면, 다음과 같이 환경설정을 하자.\n",
    "\n",
    ">conda create -n tensorflow python=3.5  \n",
    ">Proceed(y/n)? y\n",
    "\n",
    "위의 명령은 tensorflow라는 이름의 환경을 설정하여 이 환경을 불러내어 사용하기 위함이다. python=3.5는 tensorflow와의 호환성을 위해서 3.5버전을 사용하겠다는 의미이다. 설치가 끝났으면 다음 명령문을 통해 tensorflow 환경을 불러오자.\n",
    "\n",
    ">activate tensorflow\n",
    "\n",
    "참고로 Mac 사용자나 Linux 계열 사용자는 source activate tensorflow라고 입력한다.\n",
    "입력 후에는 프롬프트 앞에 (tensorflow)가 붙게 된다. 이 환경에서 이제 TensorFlow를 설치하자.\n",
    "\n",
    ">pip install tensorflow\n",
    "\n",
    "나중에 모든 작업이 끝낸 후에 가상환경을 빠져 나올 때는 다음과 같이 입력한다.\n",
    "\n",
    ">deactivate tensorflow\n",
    "\n",
    "이 후에, 새롭게 터미널을 열거나 다시 시작할 때는 항상 \n",
    "\n",
    ">activate tensorflow\n",
    "\n",
    "를 입력하는 것을 잊지 말자.\n",
    "\n",
    "\n"
   ]
  }
 ],
 "metadata": {
  "kernelspec": {
   "display_name": "Python 3",
   "language": "python",
   "name": "python3"
  },
  "language_info": {
   "codemirror_mode": {
    "name": "ipython",
    "version": 3
   },
   "file_extension": ".py",
   "mimetype": "text/x-python",
   "name": "python",
   "nbconvert_exporter": "python",
   "pygments_lexer": "ipython3",
   "version": "3.5.3"
  }
 },
 "nbformat": 4,
 "nbformat_minor": 2
}

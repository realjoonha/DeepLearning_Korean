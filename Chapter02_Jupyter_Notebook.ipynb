{
 "cells": [
  {
   "cell_type": "markdown",
   "metadata": {
    "collapsed": true
   },
   "source": [
    "### Jupyter Notebook 소개\n",
    "Jupyter Notebook(주피터 노트북)은 프로그래밍과 문서, 그림 등을 아울러 작업할 수 있는 통합 개발환경이다. Jupyter Notebook은 원래 IPython Notebook으로 불리었고, 이름에서 알 수 있듯이 Python 언어를 중심으로 개발되었지만, 근래에는 다양한 언어들을 통합하고 있다. 구성은 크게 내부적으로 프로그램을 돌리고 검사하는 kernel(커널)과 소스 코도의 내용을 보여주고 파일 열기, 닫기 등의 환경을 제공하는 dashboard(대시보드)로 이루어져 있다. <br>\n",
    "\n",
    "Python을 이용한 Machine Learning(머신 러닝)을 하기 위한 개발환경은 매우 다양하지만, 전통적인 IDE(Integrated Developoment Environment: 통합개발환경)가 닫힌 형태라라면, Jupyter Notebook은 보다 개방적이고 유연한, 사람의 사고방식에 가까운 환경을 제공한다. 이는 Python 언어의 \"사람이 이해하기 쉬운 코드\"의 철학과도 잘 어울린다. 다른 개발환경과의 차이점은 우선, 그림 2-1에서 보듯이 웹브라우저 상에서 작동하며 코드 뿐 아니라 Markdown, HTML, XML, LaTex 등의 markup langugae (마크업 언어)를 같이 사용할 수 있으며, 오프라인에서 로컬머신 기반으로 작동하거나 온라인에서 원격접속으로 작동할 수도 있다. <br>"
   ]
  },
  {
   "cell_type": "markdown",
   "metadata": {},
   "source": [
    "<img src=\"trynb.png\">\n",
    "<center>그림 2-1 (소스: https://try.jupyter.org/)</center>"
   ]
  },
  {
   "cell_type": "markdown",
   "metadata": {},
   "source": [
    "### Jupyter Notebook 설치하기\n",
    "\n",
    "설치에 관해서는, Chapter 1의 Jupyter Notebook 설치하기 세션을 참조하면 된다. Notebook 설치에 앞서 반드시 Python이 설치되어 있어야 한다."
   ]
  },
  {
   "cell_type": "markdown",
   "metadata": {},
   "source": [
    "### Jupyter Notebook 시작하고 끝내기\n",
    "Jupyter Notebook을 시작하기 위해서는 우선 터미널 창을 열어서 커맨드 라인을 입력할 준비가 되어야 한다. Windows에서는 시작 버튼을 누르거나 윈도우 검색창에 cmd를 입력하여 시작한다. Mac OS에서는 terminal 프로그램을 실행하면 된다. 커맨드 라인이 준비되면, 아래와 같이 입력하여 시작한다:<br>\n",
    "\n",
    "> jupyter notebook\n",
    "\n",
    "터미널 창에 몇 가지의 메시지가 표시된 이후에, 기본 브라우저가 열리면서 그림 2-2와 같이 Dashboard가 실행된다. Dashboard의 디렉토리는 커맨드 라인에서 Jupyter notebook을 실행한 위치를 기준으로 하며, 모든 폴더를 접근하기 위해서는 가장 상위(root)에서 실행하는 게 좋다. <br><br>\n",
    "<b>Tip 2-1:</b> 새로운 Dashboard를 띄우려면, 원하는 브라우저를 실행하고 새 탭을 연 다음에, 주소창에 http://localhost:8888 을 입력하면 된다. <br>\n",
    "<b>Tip 2-2:</b> 8888 이외의 port 번호를 사용하고 싶으면, 커맨드 라인에서 다음과 같이 번호를 지정한다 (예: 9999)<br>\n",
    "> jupyter notebook --port 9999\n",
    "\n",
    "Jupyter Notebook은 브라우저를 종료해도 백그라운드에서 계속 실행되고 있다. Jupyter Notebook을 제대로 종료하기 위해서는, 터미널 창에 다시 가서 ctrl+c 를 눌러서 종료한다. \n"
   ]
  },
  {
   "cell_type": "markdown",
   "metadata": {},
   "source": [
    "<img src=\"tryjupyter_file.png\">\n",
    "<center>그림 2-2 (소스: https://try.jupyter.org/)</center>"
   ]
  },
  {
   "cell_type": "markdown",
   "metadata": {},
   "source": [
    "### Dashboard 둘러보기\n",
    "\n",
    "위 그림 2-2를 기준으로, Dashboard 사용법을 알아보자. Jupyter 로고 아래로 세 개의 탭이 있다 (Files, Running, Clusters):<br><br>\n",
    "<b>Files:</b> 현재 위치를 기준으로, 폴더와 파일들을 보여주고 있다. 폴더는 일반적인 폴더 아이콘을 사용하며, 파일들 중에서 특별히 확장자가 .ipynb인 파일들은 노트북 모양의 아이콘으로 표현된다. 이 파일들은 IPyhon Notebook에서 편집할 수 있는 파일들이다. 폴더를 클릭하면 그 폴더 안의 파일들과 폴더들을 보여 주며, 파일들 중에서 텍스트 파일이나 .ipynb 파일을 클릭하면 Notebook이 실행되어 파일을 읽어나 편집할 수 있는 새 탭이 뜬다.<br>\n",
    "\n",
    "<b>Running:</b> 현재 실행되고 있는 terminal과 Notebook 파일들을 보여준다. Notebook 파일들은 가장 오른쪽의 Shutdown 버튼을 클릭하여 해당 프로세스를 종료할 수 있다. <br>\n",
    "\n",
    "<b>Clusters:</b> IPython parallel이라고 하는 병렬 컴퓨팅 프레임워크에 의해 제공되며, 기본 IPyhon kernel의 확장판인 많은 개별 엔진들을 컨트롤하게 해준다."
   ]
  },
  {
   "cell_type": "markdown",
   "metadata": {},
   "source": [
    "### 새로운 Notebook 만들기\n",
    "\n",
    "Dashboard의 Files 탭을 선택한 상태에서, 화면 우측 상단의 \"New\" 아이콘을 클릭하면 몇가지 옵션이 있는 팝다운 메뉴가 나타난다. \"Text File\"을 선택하면 새로운 텍스트 파일이 열리고, 일반 텍스트 편집기처럼 사용할 수 있다. \"Terminal\"을 선택하면 해당 OS의 terminal을 사용할 수 있다. 가장 중요하게, \"Python\" 내지는 \"Python 3\"를 선택하면 새로운 .ipynb 노트북을 열어 Python 코딩을 할 수 있다 (구체적인 이름은 설치한 Python kernel이나 버전에 따라 다르게 나타날 수 있다. 본인이 설치한 Python을 선택하면 된다)."
   ]
  },
  {
   "cell_type": "markdown",
   "metadata": {},
   "source": [
    "<img src=\"notebook_initial.png\">\n",
    "<center>그림 2-3</center>"
   ]
  },
  {
   "cell_type": "markdown",
   "metadata": {},
   "source": [
    "### Notebook에서 코딩하기의 기본 \n",
    "\n",
    "그림 2-3은 새롭게 열린 Notebook의 화면을 보여 주고 있다. 맨 위의 \"Untitled1\"은 기본 파일 이름이며, 이를 클릭해서 원하는 이름으로 바꿀 수 있다. Python kernel일 경우 기본적인 확장자는 .ipynb이다 (파일 이름에는 나타나지 않으며, 따로 입력할 필요도 없다). 그 아래에는 \"File\", \"Edit\", \"View\", \"Insert\", \"Cell\", \"Kernel\", \"Widgets\", \"Help\"의 메뉴가 나타나며 본 교재에서는 가장 자주 사용하는 몇 가지 메뉴만 이후에 소개하도록 한다. <br>\n",
    "기본적인 코딩을 위해서, 먼저 빈 cell(셀)을 클릭하고, 다음의 두 라인을 입력한 후에 (Shift + Enter)를 치자.\n",
    "> a = 2 <br>\n",
    "> b = 3\n",
    "\n",
    "(Shift + Enter) 다음에 아래에 새로운 셀이 만들어지면 다시 아래의 두 라인을 입력하고 (Shift + Enter)를 치자. \n",
    "> c = a + b <br>\n",
    "> print(c)\n",
    "\n",
    "(Shift + Enter)"
   ]
  },
  {
   "cell_type": "markdown",
   "metadata": {},
   "source": [
    "<img src=\"notebook_basic.png\">\n",
    "<center>그림 2-4</center>"
   ]
  },
  {
   "cell_type": "markdown",
   "metadata": {},
   "source": [
    "정상적으로 입력했다면 그림 2-4와 같은 결과를 볼 수 있다. 셀 옆의 In [1]:은 셀의 실행순서를 나타내는 번호이고, In [2]: 셀 밑의 숫자 5는 수행한 결과를 보여주는 output에 해당한다. Jupyter Notebook에서는 이와 같이 코드 전체를 한번에 실행하기 보다는 (필요하면 그렇게 할 수도 있다), 코드를 여러 개의 셀로 분할하여 각 셀 별로 실행하는 방식으로 코딩하게 된다. 이것은 코드를 논리적인 구조들의 집합으로 분리해서 이해를 더 쉽게하며, 코드 디버깅 또한 간편하게 만든다. 한 번 실행한 셀을 수정한 후에는 다시 (Shift + Enter) 혹은 (Ctrl + Enter)를 쳐야 그 변화가 반영된다. 그러면서 동시에 대괄호 안의 숫자가 증가한다. 그림 2-5와 같이 셀 안의 내용을 수정한 이후 다시 실행 해 보자. In 옆의 대괄호 안의 숫자가 3과 4로 각각 변한 것을 확인할 수 있다. 매번 셀을 실행할 때 마다 이 숫자는 증가하며, 현재 파일을 완전히 닫고 다시 열면 숫자들이 초기화 된다 (단 가장 최근의 실행 숫자들이 처음부터 표시되어 있을 수 있다)."
   ]
  },
  {
   "cell_type": "markdown",
   "metadata": {},
   "source": [
    "<img src=\"notebook_basic2.png\">\n",
    "<center>그림 2-5</center>"
   ]
  },
  {
   "cell_type": "markdown",
   "metadata": {},
   "source": [
    "코딩을 마쳤다면 메뉴의 \"File\" - \"Save and Checkpoint\"를 선택하거나, 같은 작동을 하는 저장 아이콘 (디스크 모양)을 클릭하여 저장을 한 후에, 메뉴의 \"File\" - \"Close and Halt\"를 선택하여 현재 실행중인 파일을 완전히 닫도록 하자. 그런 뒤에 Dashboard에서 해당 파일을 다시 클릭하여 열 수 있다. <br>\n",
    "\n",
    "<b>Tip 2-3:</b> 파일을 다시 열면 메모리에서 실행한 부분들이 다 초기화 되어 저장되어 있지 않다. 따라서 결과를 다시 얻으려면 각 셀을 순차적으로 다시 실행하여야 한다 (Shift + Enter) 혹은 (Ctrl + Enter)"
   ]
  },
  {
   "cell_type": "markdown",
   "metadata": {},
   "source": [
    "### Notebook의 유용한 메뉴들과 단축키들\n",
    "\n",
    "<b>File</b><br>\n",
    "* Print Preview: 현재 작성중인 파일을 브라우저의 새 탭을 열어서 보여준다 <br>\n",
    "* Save and Checkpoint: 세이브하고 이 후에 되돌릴 수 있는 체크포인트를 만든다 <br>\n",
    "* Revert to Checkpoint: 가장 최근의 체크포인트로 되돌린다 <br>\n",
    "* Download as: 현재 작성중인 파일을 다양한 형태의 확장자를 가진 파일로 다운로드 한다 (일부 확장자는 커널이나 패키지가 설치되어야 할 수도 있다)<br>\n",
    "* Close and Halt: 현재 작성중인 파일의 결과를 클리어하고 닫는다 \n",
    "\n",
    "<b>Edit</b><br>\n",
    "이 메뉴의 대부분의 기능은 셀을 추가/삭제/이동하는 것과 관련 있고, 이에 대해서는 아래의 단축키를 사용하는 게 좋다<br>\n",
    "\n",
    "<b>Help</b><br>\n",
    "* Keyboard Shortcuts: 자주 쓰이는 기능들에 대한 키보드 단축키를 보여 준다 (그림 2-6: Command Mode, 그림 2-7: Edit Mode). 단축키의 아이콘은 사용하는 OS에 따라 다르게 보일 수 있다. 그림에서는 Mac OS를 기준으로 보여준다.<br>\n",
    "\n",
    "<b>아이콘</b>\n",
    "* 디스크 아이콘 - 저장\n",
    "* 십자 아이콘 - 해당 셀의 아래에 새로운 셀을 추가\n",
    "* 위 화살표 아이콘 - 해당 셀을 한 칸 위로 이동\n",
    "* 아래 화살표 아이콘 - 해당 셀을 한 칸 아래로 이동\n"
   ]
  },
  {
   "cell_type": "markdown",
   "metadata": {},
   "source": [
    "<img src=\"command_mode.png\">\n",
    "<center>그림2-6</center>"
   ]
  },
  {
   "cell_type": "markdown",
   "metadata": {},
   "source": [
    "<b>Command Mode</b><br>\n",
    "셀을 수정하다가 (Edit Mode) \"Esc\" 버튼을 눌러서 나가게 되면, 셀 주변이 파란 테두리로 변경되는데 이 것이 Command Mode이다. Command Mode에서는 기본적으로 셀 전체를 선택, 이동, 삭제 등의 기능을 수행하게 된다. 다시 Edit Mode로 들어가려면 Enter를 친다. 그러면 테두리가 초록색으로 바뀌면서 수정을 시작할 수 있다. Command Mode에서 가장 중요한 단축키들은 다음과 같다: <br>\n",
    "* Shift+Enter: 해당 셀을 실행하고 아래의 셀을 선택한다 (아래에 셀이 없을 때는 생성한다)\n",
    "* Ctrl+Enter: 해당 셀을 실행한다 (다른 동작은 하지 않는다)\n",
    "* Alt+Enter: 해당 셀을 실행하고 아래에 새로운 셀을 삽입한다\n",
    "* Y: 해당 셀을 코드 모드로 바꾼다 (Python같은 언어의 코드를 실행할 수 있는). 새로운 셀을 생성할 때 기본적인 모드이다\n",
    "* M: 해당 셀을 마크다운 모드로 바꾼다. 이 모드에서는 프로그래밍 코드가 아닌, 일반적인 텍스트, Markdown, 이미지 등을 추가할 수 있다\n",
    "* A: 해당 셀의 위에 새로운 셀을 추가한다\n",
    "* B: 해당 셀의 아래에 새로운 셀을 추가한다\n",
    "* X: 해당 셀을 오려 낸다\n",
    "* C: 해당 셀을 카피한다\n",
    "* V: 해당 셀의 아래에 카피하거나 오려낸 셀을 붙인다 (Shift+V: 해당 셀의 위에 붙인다)\n",
    "* D, D (두번 연속 입력): 해당 셀을 지운다\n",
    "* S: 저장하고 체크포인트를 만든다\n",
    "* I, I (두번 연속 입력): 현재 진행중인 커널을 중단한다.\n",
    "\n",
    "<b>Tip 2-4</b> 셀의 코드와 마크다운 모드 구분하기: 셀은 생성될 때 기본적으로 코드 모드이다. 즉 Python 코드나 Jupyter에서 지원하는 코드를 실행할 수 있다. 그러나 Command Mode에서 M을 눌러 셀을 마크다운 모드로 바꿀 수 있다. 이때는 마크다운이나 HTML 등의 스크립트 언어를 사용하여 문서를 꾸미고, 그림이나 링크 등을 넣을 수도 있다. 단, 이때는 코드를 실행할 수는 없다. 다시 코드 모드로 되돌리려면 Command Mode에서 Y를 누르면 된다. 코드 모드일때는 셀의 왼쪽에 In [번호]: 와 같이 셀 번호가 표시되고 (실행했을 때), 마크다운 모드에서는 그러한 표시가 전혀 없다."
   ]
  },
  {
   "cell_type": "markdown",
   "metadata": {},
   "source": [
    "<img src=\"edit_mode.png\">\n",
    "<center>그림 2-7</center>"
   ]
  },
  {
   "cell_type": "markdown",
   "metadata": {},
   "source": [
    "<b>Edit Mode</b>\n",
    "Command Mode에서 Enter를 치거나 혹은 셀 안을 더블클릭해서 들어온다. 셀 주변에 녹색 선이 칠해져 있는 상태이다. 자주 쓰이는 단축키는 다음과 같다:\n",
    "* Command + ]: 들여쓰기 한다\n",
    "* Command + [: 들여쓰기 반대 방향\n",
    "* Command + /: 해당 라인 주석 혹은 주석 취소 (해당 셀이 코드 모드일때)\n",
    "\n",
    "* Shift+Enter: 해당 셀을 실행하고 아래의 셀을 선택한다 (아래에 셀이 없을 때는 생성한다)\n",
    "* Ctrl+Enter: 해당 셀을 실행한다 (다른 동작은 하지 않는다)\n",
    "* Alt+Enter: 해당 셀을 실행하고 아래에 새로운 셀을 삽입한다"
   ]
  },
  {
   "cell_type": "markdown",
   "metadata": {},
   "source": [
    "### 이미지 입력하기\n",
    "\n",
    "셀에서 M키를 눌러서 Markdown 모드로 바꾼 다음에, 다음 두 가지 방법으로 이미지를 불러올 수 있다:<br>\n",
    "(1) Markdown<br>\n",
    "`![title](파일경로/파일이름.확장자)` <br>\n",
    "(2) HTML<br>\n",
    "`<img src=\"파일경로/파일이름.확장자\">`<br>\n",
    "\n",
    "그림 파일이 로컬 드라이브에 있다면 위와 같이 파일경로와 파일이름을 지정하여 (현재 파일 폴더와 같다면 파일경로는 생략 가능하다) 불러올 수 있고, 인터넷에 있는 그림은 그림의 주소를 대신 넣어 주면 불러올 수 있다. (Ctrl+Enter)나 (Shift+Enter)를 누르면 그림이 등장한다.<br>\n",
    "\n",
    "예를 들어 아래의 명령을 입력해서 Jupyter 로고를 불러보자 (인터넷 연결이 필요):\n",
    "\n",
    "`![](http://jupyter.org/assets/nav_logo.svg)`\n"
   ]
  },
  {
   "cell_type": "markdown",
   "metadata": {},
   "source": [
    "![title](http://jupyter.org/assets/nav_logo.svg)\n",
    "<center>그림 2-8</center>"
   ]
  },
  {
   "cell_type": "markdown",
   "metadata": {},
   "source": [
    "### 수식 입력하기\n",
    "\n",
    "셀에서 M키를 눌러서 Markdown 모드로 바꾼 다음에, LaTex 문법으로 수식을 표현할 수 있다.<br>\n",
    "\n",
    "`$c = \\sqrt{a^2 + b^2}$`\n",
    "\n",
    "$c = \\sqrt{a^2 + b^2}$\n",
    "\n",
    "혹은 Python code 안에서 수식을 출력하고 싶을 경우 다음과 같은 방법을 쓰면 된다. (이 때는 코드 모드)"
   ]
  },
  {
   "cell_type": "code",
   "execution_count": 7,
   "metadata": {},
   "outputs": [
    {
     "data": {
      "text/latex": [
       "$$c=\\sqrt{a^2 + b^2}$$"
      ],
      "text/plain": [
       "<IPython.core.display.Math object>"
      ]
     },
     "metadata": {},
     "output_type": "display_data"
    }
   ],
   "source": [
    "from IPython.display import display, Math, Latex\n",
    "display(Math(r'c=\\sqrt{a^2 + b^2}')) "
   ]
  },
  {
   "cell_type": "markdown",
   "metadata": {},
   "source": [
    "### !로 시작하여 커맨드라인 명령어 입력\n",
    "\n",
    "Python 코딩을 하다 보면, 종종 커맨드 라인에서 명령을 입력할 필요가 있다. 별도의 터미널을 열어서 실행해도 되지만, 셀 안에서 !로 명령문을 시작하면 편리하게 커맨드 라인 명령어를 입력할 수 있다. 이를 활용하면 원래는 커맨드 라인에서 실행하는 python 실행명령을 통해 코드를 실행하거나, 아래 예제의 경우에는 현재 설치된 Python의 버전을 보여준다."
   ]
  },
  {
   "cell_type": "code",
   "execution_count": 10,
   "metadata": {},
   "outputs": [
    {
     "name": "stdout",
     "output_type": "stream",
     "text": [
      "Python 3.6.0 :: Anaconda 4.3.0 (x86_64)\r\n"
     ]
    }
   ],
   "source": [
    "!python --version"
   ]
  },
  {
   "cell_type": "markdown",
   "metadata": {},
   "source": [
    "현재 설치된 Python package들과 그들의 버전을 보고 싶으면 다음과 같이 입력하자:"
   ]
  },
  {
   "cell_type": "code",
   "execution_count": null,
   "metadata": {
    "collapsed": true
   },
   "outputs": [],
   "source": [
    "!pip list"
   ]
  },
  {
   "cell_type": "markdown",
   "metadata": {},
   "source": [
    "### Jupyter Magic\n",
    "\n",
    "Jupyter Notebook에는 magic function이라 불리는 다양한 형태의 함수를 사용할 수 있다. 현재 시스템에서 사용 가능한 magic function의 목록을 보려면 다음과 같이 입력하면 된다. magic function의 앞에는 %가 항상 붙으며, 한 줄로 끝나는 line magic, 여러 줄의 명령어를 같이 쓸 수 있는 cell magic이 있다. line magic은 %로 시작하며, cell magic은 %%로 시작한다."
   ]
  },
  {
   "cell_type": "code",
   "execution_count": 11,
   "metadata": {},
   "outputs": [
    {
     "data": {
      "application/json": {
       "cell": {
        "!": "OSMagics",
        "HTML": "Other",
        "SVG": "Other",
        "bash": "Other",
        "capture": "ExecutionMagics",
        "debug": "ExecutionMagics",
        "file": "Other",
        "html": "DisplayMagics",
        "javascript": "DisplayMagics",
        "js": "DisplayMagics",
        "latex": "DisplayMagics",
        "perl": "Other",
        "prun": "ExecutionMagics",
        "pypy": "Other",
        "python": "Other",
        "python2": "Other",
        "python3": "Other",
        "ruby": "Other",
        "script": "ScriptMagics",
        "sh": "Other",
        "svg": "DisplayMagics",
        "sx": "OSMagics",
        "system": "OSMagics",
        "time": "ExecutionMagics",
        "timeit": "ExecutionMagics",
        "writefile": "OSMagics"
       },
       "line": {
        "alias": "OSMagics",
        "alias_magic": "BasicMagics",
        "autocall": "AutoMagics",
        "automagic": "AutoMagics",
        "autosave": "KernelMagics",
        "bookmark": "OSMagics",
        "cat": "Other",
        "cd": "OSMagics",
        "clear": "KernelMagics",
        "colors": "BasicMagics",
        "config": "ConfigMagics",
        "connect_info": "KernelMagics",
        "cp": "Other",
        "debug": "ExecutionMagics",
        "dhist": "OSMagics",
        "dirs": "OSMagics",
        "doctest_mode": "BasicMagics",
        "ed": "Other",
        "edit": "KernelMagics",
        "env": "OSMagics",
        "gui": "BasicMagics",
        "hist": "Other",
        "history": "HistoryMagics",
        "killbgscripts": "ScriptMagics",
        "ldir": "Other",
        "less": "KernelMagics",
        "lf": "Other",
        "lk": "Other",
        "ll": "Other",
        "load": "CodeMagics",
        "load_ext": "ExtensionMagics",
        "loadpy": "CodeMagics",
        "logoff": "LoggingMagics",
        "logon": "LoggingMagics",
        "logstart": "LoggingMagics",
        "logstate": "LoggingMagics",
        "logstop": "LoggingMagics",
        "ls": "Other",
        "lsmagic": "BasicMagics",
        "lx": "Other",
        "macro": "ExecutionMagics",
        "magic": "BasicMagics",
        "man": "KernelMagics",
        "matplotlib": "PylabMagics",
        "mkdir": "Other",
        "more": "KernelMagics",
        "mv": "Other",
        "notebook": "BasicMagics",
        "page": "BasicMagics",
        "pastebin": "CodeMagics",
        "pdb": "ExecutionMagics",
        "pdef": "NamespaceMagics",
        "pdoc": "NamespaceMagics",
        "pfile": "NamespaceMagics",
        "pinfo": "NamespaceMagics",
        "pinfo2": "NamespaceMagics",
        "popd": "OSMagics",
        "pprint": "BasicMagics",
        "precision": "BasicMagics",
        "profile": "BasicMagics",
        "prun": "ExecutionMagics",
        "psearch": "NamespaceMagics",
        "psource": "NamespaceMagics",
        "pushd": "OSMagics",
        "pwd": "OSMagics",
        "pycat": "OSMagics",
        "pylab": "PylabMagics",
        "qtconsole": "KernelMagics",
        "quickref": "BasicMagics",
        "recall": "HistoryMagics",
        "rehashx": "OSMagics",
        "reload_ext": "ExtensionMagics",
        "rep": "Other",
        "rerun": "HistoryMagics",
        "reset": "NamespaceMagics",
        "reset_selective": "NamespaceMagics",
        "rm": "Other",
        "rmdir": "Other",
        "run": "ExecutionMagics",
        "save": "CodeMagics",
        "sc": "OSMagics",
        "set_env": "OSMagics",
        "store": "StoreMagics",
        "sx": "OSMagics",
        "system": "OSMagics",
        "tb": "ExecutionMagics",
        "time": "ExecutionMagics",
        "timeit": "ExecutionMagics",
        "unalias": "OSMagics",
        "unload_ext": "ExtensionMagics",
        "who": "NamespaceMagics",
        "who_ls": "NamespaceMagics",
        "whos": "NamespaceMagics",
        "xdel": "NamespaceMagics",
        "xmode": "BasicMagics"
       }
      },
      "text/plain": [
       "Available line magics:\n",
       "%alias  %alias_magic  %autocall  %automagic  %autosave  %bookmark  %cat  %cd  %clear  %colors  %config  %connect_info  %cp  %debug  %dhist  %dirs  %doctest_mode  %ed  %edit  %env  %gui  %hist  %history  %killbgscripts  %ldir  %less  %lf  %lk  %ll  %load  %load_ext  %loadpy  %logoff  %logon  %logstart  %logstate  %logstop  %ls  %lsmagic  %lx  %macro  %magic  %man  %matplotlib  %mkdir  %more  %mv  %notebook  %page  %pastebin  %pdb  %pdef  %pdoc  %pfile  %pinfo  %pinfo2  %popd  %pprint  %precision  %profile  %prun  %psearch  %psource  %pushd  %pwd  %pycat  %pylab  %qtconsole  %quickref  %recall  %rehashx  %reload_ext  %rep  %rerun  %reset  %reset_selective  %rm  %rmdir  %run  %save  %sc  %set_env  %store  %sx  %system  %tb  %time  %timeit  %unalias  %unload_ext  %who  %who_ls  %whos  %xdel  %xmode\n",
       "\n",
       "Available cell magics:\n",
       "%%!  %%HTML  %%SVG  %%bash  %%capture  %%debug  %%file  %%html  %%javascript  %%js  %%latex  %%perl  %%prun  %%pypy  %%python  %%python2  %%python3  %%ruby  %%script  %%sh  %%svg  %%sx  %%system  %%time  %%timeit  %%writefile\n",
       "\n",
       "Automagic is ON, % prefix IS NOT needed for line magics."
      ]
     },
     "execution_count": 11,
     "metadata": {},
     "output_type": "execute_result"
    }
   ],
   "source": [
    "%lsmagic"
   ]
  },
  {
   "cell_type": "markdown",
   "metadata": {},
   "source": [
    "### 유용한 magic functions\n",
    "특정 계산을 하는 시스템 시간을 측정하는 기능의 예로 %time과 %%timeit이 있고, 아래의 예제와 같이 사용 가능하다."
   ]
  },
  {
   "cell_type": "code",
   "execution_count": 29,
   "metadata": {},
   "outputs": [
    {
     "name": "stdout",
     "output_type": "stream",
     "text": [
      "CPU times: user 4 µs, sys: 1e+03 ns, total: 5 µs\n",
      "Wall time: 15.7 µs\n"
     ]
    }
   ],
   "source": [
    "%time x = range(100000)"
   ]
  },
  {
   "cell_type": "code",
   "execution_count": 30,
   "metadata": {},
   "outputs": [
    {
     "name": "stdout",
     "output_type": "stream",
     "text": [
      "100 loops, best of 3: 4.04 ms per loop\n"
     ]
    }
   ],
   "source": [
    "%%timeit x = range(100000)\n",
    "max(x)"
   ]
  },
  {
   "cell_type": "markdown",
   "metadata": {},
   "source": [
    "현재 global space에 로드된 모든 변수들을 보려면,"
   ]
  },
  {
   "cell_type": "code",
   "execution_count": 21,
   "metadata": {},
   "outputs": [
    {
     "name": "stdout",
     "output_type": "stream",
     "text": [
      "Latex\t Math\t display\t x\t \n"
     ]
    }
   ],
   "source": [
    "%who"
   ]
  },
  {
   "cell_type": "markdown",
   "metadata": {},
   "source": [
    "다른 python 파일(.py)이나 notebook 파일 (.ipynb)를 실행시키려면 (셀 안에서),"
   ]
  },
  {
   "cell_type": "code",
   "execution_count": null,
   "metadata": {
    "collapsed": true
   },
   "outputs": [],
   "source": [
    "%run 파일경로/파일이름"
   ]
  }
 ],
 "metadata": {
  "kernelspec": {
   "display_name": "Python 3",
   "language": "python",
   "name": "python3"
  },
  "language_info": {
   "codemirror_mode": {
    "name": "ipython",
    "version": 3
   },
   "file_extension": ".py",
   "mimetype": "text/x-python",
   "name": "python",
   "nbconvert_exporter": "python",
   "pygments_lexer": "ipython3",
   "version": "3.5.3"
  }
 },
 "nbformat": 4,
 "nbformat_minor": 2
}

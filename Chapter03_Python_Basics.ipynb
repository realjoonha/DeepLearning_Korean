{
 "cells": [
  {
   "cell_type": "markdown",
   "metadata": {
    "collapsed": true
   },
   "source": [
    "### Python Basics\n",
    "\n",
    "Python(파이썬)은 1991년 Guido van Rossum(귀도 반 로썸)에 의해 발표된 프로그래밍 언어이다. 파이썬은 직관적이고 읽기 쉬운 코딩 스타일을 지향하는데, 대표적인 특징으로 코드에서 함수나 제어문 안에서 단계적 들여쓰기를 강조(강제)한다는 점이다. 즉 위치에 따라 올바르게 들여쓰기를 하지 않으면 에러가 발생한다. Jupyter Notebook을 비롯한 대부분의 IDE나 텍스트 에디터는 자동으로 들여쓰기를 해 주기 때문에 걱정할 필요는 없다. 머신 러닝과 데이터 사이언스를 위해 여러 가지 다양한 언어를 사용할 수 있지만, Python의 경우는 다양한 라이브러리(패키지)들이 존재하고 그 유연함과 확장성 등으로 인해 산업계에서 폭넓게 확산되고 있다. 본 교재의 목표는 파이썬 자체가 아닌 파이썬을을 이용한 인공지능 구현이지만, 그럼에도 그 바탕이 되는 파이썬의 기본적인 내용은 먼저 학습할 필요가 있다. 따라서 이 챕터의 내용에서는 머신 러닝을 위해 필수적인 기본 내용을 담고 있으며, 그 중에서도 다른 패키지들에 의존하지 않는 파이썬 본래의 내용들을 학습할 것이다."
   ]
  },
  {
   "cell_type": "markdown",
   "metadata": {},
   "source": [
    "### Python 설치\n",
    "\n",
    "Python 설치는 Chapter 1의 Python 설치하기 항목을 참조하면 된다. Python은 현재 Python2와 Python3가 있는데, 둘 사이에는 약간의 문법적, 계산적 차이가 존재한다. 본 교재는 Python3, 그 중에서도 3.6버전을 기준으로 설명한다."
   ]
  },
  {
   "cell_type": "markdown",
   "metadata": {},
   "source": [
    "### Python 시작과 코딩\n",
    "\n",
    "파이썬은 전용 IDE나 일반 텍스트 편집기로도 코딩할 수 있지만, 본 교재에서는 Chapter 2에서 설치한 Jupyter Notebook을 사용하는 것을 가정한다. Jupyter Notebook을 실행한 후에 새로운 Python 파일을 만들자 (Chapter 2 참조).\n"
   ]
  },
  {
   "cell_type": "markdown",
   "metadata": {},
   "source": [
    "### 코멘트 남기기\n",
    "\n",
    "모든 프로그래밍 언어에서 적절한 코멘트를 남기는 것은 매우 중요하다. 파이썬에서는 #으로 시작하는 모든 문구는 다 코멘트로 인식된다."
   ]
  },
  {
   "cell_type": "code",
   "execution_count": 13,
   "metadata": {
    "collapsed": true
   },
   "outputs": [],
   "source": [
    "# your first comment\n",
    "a = 3"
   ]
  },
  {
   "cell_type": "markdown",
   "metadata": {},
   "source": [
    "### 변수와 레퍼런스(참조) 전달\n",
    "파이썬에서는 변수에 값이나 다른 변수를 전달할 때 그들의 값이 아닌 reference(참조)로 전달한다. 다음의 예제를 살펴보자."
   ]
  },
  {
   "cell_type": "code",
   "execution_count": 19,
   "metadata": {},
   "outputs": [
    {
     "data": {
      "text/plain": [
       "[50, 20, 10, 100]"
      ]
     },
     "execution_count": 19,
     "metadata": {},
     "output_type": "execute_result"
    }
   ],
   "source": [
    "a = [50, 20, 10] # a라는 변수는 [50, 20, 10]이라는 list를 가리킨다.\n",
    "b = a # b라는 변수는 a라는 변수를 가리킨다.\n",
    "a.append(100) # a라는 변수(list)에 100이라는 값을 추가한다.\n",
    "b # b의 값을 출력한다"
   ]
  },
  {
   "cell_type": "markdown",
   "metadata": {},
   "source": [
    "위 예제에서 b = a 라는 구문은 b가 항상 a를 가리키게(참조하게) 한다. 따라서 세번째 줄에서 a에 변화를 주었을 때 자동으로 b도 그 변화가 반영되어 a와 같은 값을 출력한다."
   ]
  },
  {
   "cell_type": "markdown",
   "metadata": {},
   "source": [
    "### Attribute(속성)과 method(방법)\n",
    "\n",
    "파이썬에서는 모든 것이 object(객체)로 취급되고, 각 객체의 하위 속성이나 그 객체의 method(방법)을 통해서 작동할 수 있다. 속성과 방법은 각 객체의 이름 뒤에 . 이 붙고 그 뒤에 속성이나 방법의 이름이 붙는다. 다음의 예제는 위에서 정의된 a라는 변수(list)를 순서대로 정렬하는 방법을 보여준다. 가능한 속성/방법을 보기 위해서는 객체 이름 뒤에 . 을 찍은 후 Tab 키를 눌러서 확인하고 고를 수 있다."
   ]
  },
  {
   "cell_type": "code",
   "execution_count": 20,
   "metadata": {},
   "outputs": [
    {
     "data": {
      "text/plain": [
       "[10, 20, 50, 100]"
      ]
     },
     "execution_count": 20,
     "metadata": {},
     "output_type": "execute_result"
    }
   ],
   "source": [
    "a.sort()\n",
    "a"
   ]
  },
  {
   "cell_type": "markdown",
   "metadata": {},
   "source": [
    "### 자료 구조\n",
    "\n",
    "모든 언어의 기본은 그 언어에서 지원하는 자료 구조를 이해하고, 필요할 때마다 접근/수정하는 방법을 아는 것이다. 파이썬은 기본적으로 숫자(자연수, 소수), 문자열, list, tuple, dict 라는 자료 구조를 제공한다. 나중에 numpy, pandas, tensorflow같은 패키지를 불러 오면 더 다양한 형태의 자료 구조가 제공되지만 이번 챕터에서는 기본적인 자료 구조만 살펴 보기로 한다."
   ]
  },
  {
   "cell_type": "markdown",
   "metadata": {},
   "source": [
    "### list\n",
    "\n",
    "파이썬의 list는 다양한 목록을 담는 그릇이다. 위의 예제에서 변수 a와 b 모두 list이다. 파이썬에서는 list 안의 개별 값을 접근하기 위해서는 인덱스를 0부터 시작하여 1씩 증가한다. 다음의 예제에서 list에서 할 수 있는 몇 가지 일들을 살펴보자. 여러 다른 값들을 모두 출력하기 위해서 함수 print를 쓴 것에 주목하자. print는 \" \"안에 있는 문자열을 그대로 출력하고 쉼표(,) 이후에 있는 변수의 값을 이어서 출력한다."
   ]
  },
  {
   "cell_type": "code",
   "execution_count": 49,
   "metadata": {},
   "outputs": [
    {
     "name": "stdout",
     "output_type": "stream",
     "text": [
      "type of a = <class 'list'>\n",
      "length of a = 5\n",
      "a[0] = 50\n",
      "a[1] = 20\n",
      "a[-1] = 70\n",
      "a[-2] = 100\n",
      "a[1:] = [20, 10, 100, 70]\n",
      "a[:3] = [50, 20, 10]\n",
      "a[1:3] = [20, 10]\n",
      "a[-2:] = [100, 70]\n",
      "a[-4:-2] = [20, 10]\n",
      "a[::2] = [50, 10, 70]\n",
      "a[::-1] = [70, 100, 10, 20, 50]\n"
     ]
    }
   ],
   "source": [
    "a = [50, 20, 10, 100, 70]\n",
    "print(\"type of a =\", type(a)) # a라는 변수의 형태를 출력한다 (list)\n",
    "print(\"length of a =\", len(a)) # list의 길이 (원소의 갯수)\n",
    "\n",
    "# indexing (slicing) - list에서 원하는 원소들을 뽑아내는 방법\n",
    "print(\"a[0] =\", a[0]) # list의 첫번째 원소\n",
    "print(\"a[1] =\", a[1]) # list의 두번째 원소\n",
    "print(\"a[-1] =\", a[-1]) # list의 마지막 원소\n",
    "print(\"a[-2] =\", a[-2]) # list의 끝에서 두번째 원소\n",
    "print(\"a[1:] =\", a[1:]) # list의 두번째 원소부터 끝까지\n",
    "print(\"a[:3] =\", a[:3]) # list의 처음부터 \"3개의\" 원소\n",
    "print(\"a[1:3] =\", a[1:3]) # list의 두번째부터 \"3-1=2\"개의 원소\n",
    "print(\"a[-2:] =\", a[-2:]) # list의 끝에서 두번째 원소부터 끝까지\n",
    "print(\"a[-4:-2] =\", a[-4:-2]) #list의 끝에서 네번째 원소부터 \"(-2)-(-4)=2\"개의 원소\n",
    "print(\"a[::2] =\", a[::2]) # list의 처음 원소부터 시작해 2단계씩 원소를 뽑아냄\n",
    "print(\"a[::-1] =\", a[::-1]) # list의 끝에서부터 역순으로 원소를 뽑아냄"
   ]
  },
  {
   "cell_type": "markdown",
   "metadata": {},
   "source": [
    "list는 얼핏 array(배열)과 비슷해 보이지만, 실제로는 훨씬 유연하고 확장성을 가진 구조이다. 예를 들어 다음과 같이 숫자와 문자열을 혼합하거나 list안의 list, 다차원 배열과 같은 형태로 쓸 수 있다. 이러한 list의 유연성은 장점이지만 동시에 상대적으로 많은 메모리를 차지하고, 높은 차원의 배열일 경우 연산 속도의 저하 등 단점도 가지고 있다. 이러한 단점의 극복을 위해서 머신러닝에서 다차원, 큰 배열을 다룰 때는 list보다는 numpy 등의 패키지에서 제공하는 array(배열)과 같은 별도의 데이터 구조를 사용한다. 그러나 list는 매우 보편적으로 많은 파이썬 코드에서 사용되므로 그 형태와 사용법을 익혀두는 것이 필요하다."
   ]
  },
  {
   "cell_type": "code",
   "execution_count": 61,
   "metadata": {},
   "outputs": [
    {
     "name": "stdout",
     "output_type": "stream",
     "text": [
      "c[2] = [1, -5, 10]\n",
      "c[2][1] = -5\n",
      "2\n"
     ]
    }
   ],
   "source": [
    "# 다양한 list의 형태\n",
    "\n",
    "b = [2, 3, \"A\", \"B\", None] # None은 null 값을 가져서 아무것도 담지 않지만 b의 길이는 5이다\n",
    "c = [2, 3, [1, -5, 10], 7]\n",
    "print(\"c[2] =\", c[2]) # b의 세번째 원소는 그 자체가 다시 list이다\n",
    "print(\"c[2][1] =\", c[2][1]) # b의 세번째 원소(list)의 두번째 원소\n",
    "M = [[1,2,3], [4,5,6]] # M은 2 by 3 matrix 같은 구조를 가지고 있다.\n",
    "print(M[0][1])"
   ]
  },
  {
   "cell_type": "code",
   "execution_count": 88,
   "metadata": {
    "scrolled": true
   },
   "outputs": [
    {
     "name": "stdout",
     "output_type": "stream",
     "text": [
      "[2, 3, 'A', 'B', None, 'C']\n",
      "[2, 3, 'A', '6', 'B', None, 'C']\n",
      "6\n",
      "[2, 3, 'A', 'B', None, 'C']\n",
      "[2, 3, 'B', None, 'C']\n",
      "[2, 3, 'B', None, 'C', 2, 3, [1, -5, 10], 7]\n",
      "[2, 3, 'B', None, 'C', 2, 3, [1, -5, 10], 7]\n",
      "True\n",
      "2\n"
     ]
    }
   ],
   "source": [
    "# list에 할 수 있는 기능들의 일부\n",
    "\n",
    "b = [2, 3, \"A\", \"B\", None]\n",
    "b.append(\"C\") # list의 끝에 새 원소 추가\n",
    "print(b)\n",
    "b.insert(3, \"6\") # list의 세번째 원소 뒤에 새 원소 \"6\" 추가\n",
    "print(b)\n",
    "print(b.pop(3)) # list의 네번째 원소 추출하여 표시 & list에서 그 원소 제거\n",
    "print(b)\n",
    "b.remove(\"A\") #list에서 \"A\"라는 원소를 찾아서 제거\n",
    "print(b)\n",
    "print(b + c) # b와 c 두 개의 list를 합친다 (concatenate)\n",
    "b.extend(c) # b에 c를 가져다 붙인다 (extend) <= concatenate보다 빠르다\n",
    "print(b)\n",
    "print(\"B\" in b) # \"B\"라는 원소가 list b안에 있는가? 참이면 True, 거짓이면 False\n",
    "print(b.count(3)) # list 안에 3이라는 원소가 몇 개 있는 지 세어준다"
   ]
  },
  {
   "cell_type": "markdown",
   "metadata": {},
   "source": [
    "### tuple\n",
    "\n",
    "tuple(튜플)은 list와 유사하지만 원소를 수정할 수 없다. 따라서 tuple은 보통 고정된 목록 등을 표현할 때 사용한다. list를 정의하기 위해 [ ]을 사용했다면 tuple은 ( )로 묶어서 정의한다"
   ]
  },
  {
   "cell_type": "code",
   "execution_count": 89,
   "metadata": {},
   "outputs": [
    {
     "name": "stdout",
     "output_type": "stream",
     "text": [
      "(10, 5, 7, 'String1', 'Sting2', 'String3')\n",
      "<class 'tuple'>\n"
     ]
    }
   ],
   "source": [
    "d = (10, 5, 7, \"String1\", \"Sting2\", \"String3\")\n",
    "print(d)\n",
    "print(type(d))"
   ]
  },
  {
   "cell_type": "markdown",
   "metadata": {},
   "source": [
    "### dict\n",
    "\n",
    "dict는 dictionary(사전)의 준말로서, key-value 쌍으로 이루어져 있다. 여기서 key는 사전에서 찾으려는 단어라고 생각할 수 있고 value는 그에 대응되는 뜻이라고 이해할 수 있다. 이는 tuple이나 list처럼 번호로 인덱스를 하는 것이 아니라, key를 통해서 필요한 내용을 뽑아내는 데 유용한 구조이다. 다음의 예제를 보자."
   ]
  },
  {
   "cell_type": "code",
   "execution_count": 102,
   "metadata": {},
   "outputs": [
    {
     "name": "stdout",
     "output_type": "stream",
     "text": [
      "{'key1': 'value1', 'key2': [2, 3, 5], 'any_name': 75}\n",
      "<class 'dict'>\n",
      "value1\n",
      "[2, 3, 5]\n",
      "75\n",
      "True\n"
     ]
    }
   ],
   "source": [
    "d1 = {'key1': 'value1', 'key2': [2,3,5], 'any_name': 75}\n",
    "print(d1)\n",
    "print(type(d1))\n",
    "\n",
    "print(d1['key1']) # key1 이라는 key에 해당하는 value를 출력\n",
    "print(d1['key2']) # key2 라는 key에 해당하는 value를 출력\n",
    "print(d1['any_name']) # any_name 이라는 key에 해당하는 value를 출력\n",
    "print('key2' in d1) # key2라는 key가 d1이라는 dict안에 존재하는가? (True/False)\n"
   ]
  },
  {
   "cell_type": "markdown",
   "metadata": {},
   "source": [
    "위의 예제에서는 dict의 key로 전부 문자열을 사용했지만, 숫자 역시 가능하다. 아래의 예제에서 두번째의 d1[8] = 'new_value'라는 명령어는 d1이라는 dict의 (8-1)=7번째 항목을 가르키는 것이 아니라, d1안에 숫자 8이라는 key가 있는 지 찾아보고, 없다면 '8': 'new_value'라는 새로운 key-valye 쌍을 추가하고, 있다면 그 아래의 예제처럼 8이라는 key에 해당하는 value를 업데이트 한다."
   ]
  },
  {
   "cell_type": "code",
   "execution_count": 103,
   "metadata": {},
   "outputs": [
    {
     "name": "stdout",
     "output_type": "stream",
     "text": [
      "{'key1': 'value1', 'key2': [2, 3, 5], 'any_name': 75, 'new_key': 'value_added'}\n",
      "{'key1': 'value1', 'key2': [2, 3, 5], 'any_name': 75, 'new_key': 'value_added', 8: 'new_value'}\n",
      "{'key1': 'value1', 'key2': [2, 3, 5], 'any_name': 75, 'new_key': 'value_added', 8: 'changed_value'}\n"
     ]
    }
   ],
   "source": [
    "# 새로운 key를 넣거나 편집하는 방법\n",
    "d1['new_key'] = 'value_added'\n",
    "print(d1)\n",
    "\n",
    "d1[8] = 'new_value'\n",
    "print(d1)\n",
    "\n",
    "d1[8] = 'changed_value'\n",
    "print(d1)"
   ]
  },
  {
   "cell_type": "code",
   "execution_count": 106,
   "metadata": {},
   "outputs": [
    {
     "name": "stdout",
     "output_type": "stream",
     "text": [
      "dict_keys(['key1', 'key2', 'any_name', 'new_key', 8])\n",
      "dict_values(['value1', [2, 3, 5], 75, 'value_added', 'changed_value'])\n"
     ]
    }
   ],
   "source": [
    "# dict의 key와 value들의 목록을 보는 방법\n",
    "print(d1.keys())\n",
    "print(d1.values())"
   ]
  },
  {
   "cell_type": "markdown",
   "metadata": {},
   "source": [
    "### set\n",
    "\n",
    "set는 순서가 정해지지 않은 \"고유한(unique)\" 원소들의 모음이다(수학에서 집합과 유사하다). 다음의 예제는 set를 정하는 하나의 방법이다. 순서가 정해지지 않았다는 의미는 s1의 값을 입력할 때 들어가는 순서를 무시한다는 뜻이고 (결과에서 작은 순서부터 정렬해서 보여주지만 사실 그 순서도 의미가 없다), 고유한 원소들의 모음이라는 것은 중복된 원소가 있을 경우 하나만 원소로 받아들인다는 의미이다."
   ]
  },
  {
   "cell_type": "code",
   "execution_count": 107,
   "metadata": {},
   "outputs": [
    {
     "name": "stdout",
     "output_type": "stream",
     "text": [
      "<class 'set'>\n",
      "{2, 3, 5, 8, 9}\n"
     ]
    }
   ],
   "source": [
    "s1 = {8, 2, 3, 5, 5, 8, 9}\n",
    "print(type(s1))\n",
    "print(s1)"
   ]
  },
  {
   "cell_type": "markdown",
   "metadata": {},
   "source": [
    "위의 코드에서 s1을 정의할 때 { }가 쓰인 것은 dict와 같지만, dict와의 차이점은 key: value 쌍이 아닌, value만 있다는 점이다. set에서 중요한 것은 특정 원소가 set안에 있느냐 없느냐이지 그들의 순서가 아니기 때문에 다음과 같은 인덱싱을 하면 오류가 발생한다:"
   ]
  },
  {
   "cell_type": "code",
   "execution_count": 108,
   "metadata": {},
   "outputs": [
    {
     "ename": "TypeError",
     "evalue": "'set' object does not support indexing",
     "output_type": "error",
     "traceback": [
      "\u001b[0;31m---------------------------------------------------------------------------\u001b[0m",
      "\u001b[0;31mTypeError\u001b[0m                                 Traceback (most recent call last)",
      "\u001b[0;32m<ipython-input-108-efdb3eae1db4>\u001b[0m in \u001b[0;36m<module>\u001b[0;34m()\u001b[0m\n\u001b[0;32m----> 1\u001b[0;31m \u001b[0ms1\u001b[0m\u001b[0;34m[\u001b[0m\u001b[0;36m0\u001b[0m\u001b[0;34m]\u001b[0m\u001b[0;34m\u001b[0m\u001b[0m\n\u001b[0m",
      "\u001b[0;31mTypeError\u001b[0m: 'set' object does not support indexing"
     ]
    }
   ],
   "source": [
    "s1[0]"
   ]
  },
  {
   "cell_type": "markdown",
   "metadata": {},
   "source": [
    "다른 자료형처럼 특정 값이 set안에 있는 지 확인하려면 다음과 같이 할 수 있다:"
   ]
  },
  {
   "cell_type": "code",
   "execution_count": 110,
   "metadata": {},
   "outputs": [
    {
     "data": {
      "text/plain": [
       "True"
      ]
     },
     "execution_count": 110,
     "metadata": {},
     "output_type": "execute_result"
    }
   ],
   "source": [
    "5 in s1"
   ]
  },
  {
   "cell_type": "markdown",
   "metadata": {},
   "source": [
    "set에서 가능한 몇 가지 기능들은 다음과 같다:"
   ]
  },
  {
   "cell_type": "code",
   "execution_count": 128,
   "metadata": {},
   "outputs": [
    {
     "name": "stdout",
     "output_type": "stream",
     "text": [
      "{2, 5, 8, 9, 'A'}\n",
      "{'C', 'A', 'B'}\n",
      "{2, 5, 'B', 8, 9, 'A', 'C'}\n",
      "{'A'}\n",
      "{8, 9, 2, 5}\n"
     ]
    }
   ],
   "source": [
    "s1 = {8, 2, 3, 5, 5, 8, 9}\n",
    "s1.add('A') # s1에 'A'라는 문자 원소를 추가한다\n",
    "s1.remove(3) # s1에 3이라는 원소를 삭제한다\n",
    "print(s1)\n",
    "\n",
    "s2 = set(['C', 'A', 'B', 'A']) # set는 s1처럼 { }를 사용할 수도 있고, s2처럼 set 명령어를 사용해서 정의할 수도 있다. \n",
    "# set 명령어는 이 예제처럼 list 등의 다른 자료 구조를 set로 변환시킬 때 유용하다.\n",
    "print(s2)\n",
    "\n",
    "print(s1.union(s2)) # 합집합: 두 집합 중 한 군데라도 있는 원소들의 집합\n",
    "print(s1.intersection(s2)) # 교집합: 두 집합 모두에 있는 원소들의 집합\n",
    "print(s1.difference(s2)) # 차집합: s1에 있는 원소들 중 s2에 속하지 않는 원소들의 집합"
   ]
  },
  {
   "cell_type": "markdown",
   "metadata": {},
   "source": [
    "### function (함수)\n",
    "\n",
    "다른 프로그래밍 언어에서처럼 python에서도 임의의 함수를 지정하여 사용할 수 있다. 함수의 가장 중요한 역할은 반복되는 부분을 함수로 지정하여, 코드를 짧고 읽기 쉽게 만들며 효율적인 코딩을 가능하게 한다는 점이다. python에서 함수의 정의는 def로 해서 다음과 같이 한다:"
   ]
  },
  {
   "cell_type": "code",
   "execution_count": 129,
   "metadata": {
    "collapsed": true
   },
   "outputs": [],
   "source": [
    "def function_name():\n",
    "    return"
   ]
  },
  {
   "cell_type": "markdown",
   "metadata": {},
   "source": [
    "위 예에서 function_name에 해당하는 부분에는 함수의 이름을 지정하고, () 안에 필요한 input argument를, return 다음에는 필요한 output argument를 넣을 수 있다. 위의 예제처럼 이들은 생략할 수도 있다 (return 구문 자체도 필수는 아니다). 간단한 예제를 통해 실제 함수를 정의하고 사용하는 방법을 살펴 보자. 참고로 return 구문을 포함해서, 함수의 내용은 들여쓰기가 되어 있음을 알 수 있다. Jupyter notebook으로 편집하면 자동으로 이 들여쓰기를 해 준다."
   ]
  },
  {
   "cell_type": "code",
   "execution_count": 130,
   "metadata": {
    "collapsed": true
   },
   "outputs": [],
   "source": [
    "def add_function(x, y):\n",
    "    z = x + y\n",
    "    return z"
   ]
  },
  {
   "cell_type": "code",
   "execution_count": 133,
   "metadata": {},
   "outputs": [
    {
     "name": "stdout",
     "output_type": "stream",
     "text": [
      "5\n"
     ]
    }
   ],
   "source": [
    "result = add_function(2, 3)\n",
    "print(result)"
   ]
  },
  {
   "cell_type": "markdown",
   "metadata": {},
   "source": [
    "아래의 예제는 input argument 중에서 positional argument (위치에 기반: x, y와 같은)와 keyword arguement (키워드로 지정: power)의 사용법을 보여준다. keyword argument는 선택적이며, 반드시 positional argument 다음에 지정되어야 한다. keyword argument에 값을 대입하는 방법은 positional argument처럼 그 위치에 맞춰도 되지만, 직접 그 키워드를 명시하여 입력해 주는 편지 더 이해하기 좋다."
   ]
  },
  {
   "cell_type": "code",
   "execution_count": 142,
   "metadata": {
    "collapsed": true
   },
   "outputs": [],
   "source": [
    "def power_function(x, y, power=1):\n",
    "    return (x + y)**power"
   ]
  },
  {
   "cell_type": "code",
   "execution_count": 143,
   "metadata": {},
   "outputs": [
    {
     "name": "stdout",
     "output_type": "stream",
     "text": [
      "5\n",
      "25\n",
      "25\n"
     ]
    }
   ],
   "source": [
    "print(power_function(2, 3)) # keyword argument 생략, 기본값인 power=1이 들어간다\n",
    "print(power_function(2, 3, 2)) # keyword argument를 위치에 기반하여 입력\n",
    "print(power_function(2, 3, power=2)) # keyword argument를 키워드에 기반하여 입력 (권장)"
   ]
  },
  {
   "cell_type": "markdown",
   "metadata": {},
   "source": [
    "python에서는 함수에서 여러 개의 아웃풋을 리턴할 수 있다. 필요에 따라 다음과 같은 다른 방법을 사용할 수 있다:"
   ]
  },
  {
   "cell_type": "code",
   "execution_count": 146,
   "metadata": {},
   "outputs": [
    {
     "name": "stdout",
     "output_type": "stream",
     "text": [
      "25\n",
      "1\n",
      "(25, 1)\n"
     ]
    }
   ],
   "source": [
    "# (1) tuple을 이용한 방식\n",
    "def power_function(x, y, power=1):\n",
    "    z1 = (x + y)**power\n",
    "    z2 = (x - y)**power\n",
    "    return z1, z2\n",
    "\n",
    "z1, z2 = power_function(2, 3, power=2)\n",
    "print(z1)\n",
    "print(z2)\n",
    "\n",
    "result = power_function(2, 3, power=2)\n",
    "print(result)"
   ]
  },
  {
   "cell_type": "code",
   "execution_count": 148,
   "metadata": {},
   "outputs": [
    {
     "name": "stdout",
     "output_type": "stream",
     "text": [
      "{'result1': 25, 'result2': 1}\n"
     ]
    }
   ],
   "source": [
    "# (2) dict를 이용한 방식\n",
    "def power_function(x, y, power=1):\n",
    "    z1 = (x + y)**power\n",
    "    z2 = (x - y)**power\n",
    "    return {'result1': z1, 'result2': z2}\n",
    "\n",
    "result = power_function(2, 3, power=2)\n",
    "print(result)"
   ]
  },
  {
   "cell_type": "markdown",
   "metadata": {},
   "source": [
    "### 제어문\n",
    "\n",
    "다른 언어들처럼 python에서도 제어문을 잘 다루는 것이 중요하다. 아래의 예제에서는 for와 if-elif-else 두 가지만 간단하게 소개한다."
   ]
  },
  {
   "cell_type": "code",
   "execution_count": 151,
   "metadata": {},
   "outputs": [
    {
     "name": "stdout",
     "output_type": "stream",
     "text": [
      "0\n",
      "1\n",
      "2\n",
      "3\n",
      "4\n",
      "4\n"
     ]
    }
   ],
   "source": [
    "# for loop\n",
    "for i in range(5):\n",
    "    print(i)\n",
    "    \n",
    "print(i)"
   ]
  },
  {
   "cell_type": "markdown",
   "metadata": {},
   "source": [
    "기본적인 for문의 사용방식이다. 역시나 다른 언어와는 달리 for loop을 구분해 주는 기호가 따로 있는 것이 아니라, 들여쓰기를 통해서 for loop을 나머지 코드 부분과 분리하고 있다. range(5)는 0에서 4까지 5개의 원소를 변환해가며 loop을 돌린다. 위의 아웃풋에서 마지막 4는 for loop 바깥의 print(i)에 의한 결과물이다. 보다시피 들여쓰기를 하지 않은 곳은 loop의 바깥으로 처리한다. "
   ]
  },
  {
   "cell_type": "code",
   "execution_count": 155,
   "metadata": {},
   "outputs": [
    {
     "name": "stdout",
     "output_type": "stream",
     "text": [
      "2\n",
      "3\n",
      "4\n"
     ]
    }
   ],
   "source": [
    "for i in range(2, 5):\n",
    "    print(i)"
   ]
  },
  {
   "cell_type": "markdown",
   "metadata": {},
   "source": [
    "위의 예제에서는 i가 2부터 시작해 4에서 끝난다. range(2, 5)에서 5로 끝남에도 4까지 가는 것은 list의 인덱싱을 할 때 본 것과 비슷한 구조이다 (a[2:5]이면 a의 2번째 원소부터 5-2=3개까지의 원소를 보여준다). "
   ]
  },
  {
   "cell_type": "code",
   "execution_count": 160,
   "metadata": {},
   "outputs": [
    {
     "name": "stdout",
     "output_type": "stream",
     "text": [
      "15\n"
     ]
    }
   ],
   "source": [
    "count = 0\n",
    "for i in range(5):\n",
    "    for j in range(3):\n",
    "        count += 1\n",
    "\n",
    "print(count)"
   ]
  },
  {
   "cell_type": "markdown",
   "metadata": {},
   "source": [
    "위와 같이 다중 for loop도 가능하다. 다중 for loop에서는 들여쓰기가 한번 더 들어가는 것에 유의하자 (역시 Jupyter Notebook 에디터가 자동으로 해 준다). "
   ]
  },
  {
   "cell_type": "code",
   "execution_count": 161,
   "metadata": {},
   "outputs": [
    {
     "name": "stdout",
     "output_type": "stream",
     "text": [
      "ABC\n",
      "DEF\n",
      "GHI\n"
     ]
    }
   ],
   "source": [
    "strings = ['ABC', 'DEF', 'GHI']\n",
    "for i in strings:\n",
    "    print(i)"
   ]
  },
  {
   "cell_type": "markdown",
   "metadata": {},
   "source": [
    "위의 예제와 같이 문자열들의 list를 포함해서 다양한 형태의 loop 지정이 가능하다. python의 for loop은 다음과 같이 유연하게 사용할 수도 있다."
   ]
  },
  {
   "cell_type": "code",
   "execution_count": 164,
   "metadata": {},
   "outputs": [
    {
     "data": {
      "text/plain": [
       "[True, False, False]"
      ]
     },
     "execution_count": 164,
     "metadata": {},
     "output_type": "execute_result"
    }
   ],
   "source": [
    "strings = ['ABC', 'DEF', 'GHI']\n",
    "[i=='ABC' for i in strings]"
   ]
  },
  {
   "cell_type": "markdown",
   "metadata": {},
   "source": [
    "### if 문\n",
    "\n",
    "if문은 조건이 참이면 수행하고, 그렇지 않으면 else 이후의 블락을 수행한다. else는 생략 가능하다. 아래 예제에서 if 다음에 나오는 조건식에서 == 기호는 양 쪽이 같은 지 검사하는 역할을 한다. 참이면 True, 거짓이면 False를 리턴한다."
   ]
  },
  {
   "cell_type": "code",
   "execution_count": 170,
   "metadata": {},
   "outputs": [
    {
     "name": "stdout",
     "output_type": "stream",
     "text": [
      "['abc', 'DEF', 'GHI']\n"
     ]
    }
   ],
   "source": [
    "strings = ['ABC', 'DEF', 'GHI']\n",
    "\n",
    "if strings[0]=='ABC':\n",
    "    strings[0] = 'abc'\n",
    "\n",
    "print(strings)"
   ]
  },
  {
   "cell_type": "code",
   "execution_count": 171,
   "metadata": {},
   "outputs": [
    {
     "name": "stdout",
     "output_type": "stream",
     "text": [
      "['ABC', 'DEF', 'GHI']\n"
     ]
    }
   ],
   "source": [
    "if strings[0]=='ABC':\n",
    "    strings[0] = 'abc'\n",
    "else:\n",
    "    strings[0] = 'ABC'\n",
    "    \n",
    "print(strings)"
   ]
  },
  {
   "cell_type": "code",
   "execution_count": 176,
   "metadata": {},
   "outputs": [
    {
     "name": "stdout",
     "output_type": "stream",
     "text": [
      "insert 'ABC or 'abc' in strings[0]\n",
      "['JKL', 'DEF', 'GHI']\n"
     ]
    }
   ],
   "source": [
    "strings[0] = 'JKL'\n",
    "\n",
    "if strings[0]=='ABC':\n",
    "    strings[0] = 'abc'\n",
    "elif strings[0]=='abc':\n",
    "    strings[0] = 'ABC'\n",
    "else:\n",
    "    print(\"insert 'ABC or 'abc' in strings[0]\")\n",
    "\n",
    "print(strings)"
   ]
  },
  {
   "cell_type": "markdown",
   "metadata": {},
   "source": [
    "위의 예제처럼 if의 조건을 만족시키지 않을 경우 else문에 넘어가기 전에 제2, 제3의 조건들을 elif 문을 통해서 사용할 수 있다."
   ]
  },
  {
   "cell_type": "code",
   "execution_count": 177,
   "metadata": {},
   "outputs": [
    {
     "name": "stdout",
     "output_type": "stream",
     "text": [
      "GHI is in strings\n"
     ]
    }
   ],
   "source": [
    "if 'GHI' in strings:\n",
    "    print('GHI is in strings')\n",
    "elif 'ABC' not in strings:\n",
    "    print('ABC is not in strings')"
   ]
  },
  {
   "cell_type": "markdown",
   "metadata": {},
   "source": [
    "위의 예제처럼 in 이나 not in을 사용하여 특정 원소가 어떠한 자료 구조 안에 있는 지, 없는 지를 알아낼 수 있다. 이 방법은 원소의 위치에 관계없이 있는 지 없는 지 만을 판단한다."
   ]
  },
  {
   "cell_type": "markdown",
   "metadata": {},
   "source": [
    "### 모듈과 패키지 불러 오기\n",
    "\n",
    "앞으로의 실습에서 우리는 python 본래의 고유 기능도 사용하지만, 많은 부분을 외부의 모듈과 패키지에 의존할 것이다. 대표적으로는 수리계산, 배열을 위한 numpy, 효율적인 데이터 처리를 위한 pandas, 신경망과 딥러닝 학습을 위한 tensorflow, 그래프와 시각화를 위한 matplotlib 등이 있다. 이들을 불러오기 위해서는 단순히 import 명령을 사용하면 된다."
   ]
  },
  {
   "cell_type": "code",
   "execution_count": 179,
   "metadata": {
    "collapsed": true
   },
   "outputs": [],
   "source": [
    "import numpy as np # numpy를 np라는 약자로 불러온다\n",
    "import pandas as pd # pandas를 pd라는 약자로 불러온다\n",
    "import tensorflow as tf # tensorflow를 tf라는 약자로 불러온다\n",
    "\n",
    "import matplotlib.pyplot as plt # matplotlib 안의 pyplot을 plot라는 약자로 불러온다\n",
    "from matplotlib import pyplot as plt # 위의 구문과 같은 역할을 한다"
   ]
  },
  {
   "cell_type": "markdown",
   "metadata": {},
   "source": [
    "각 패키지는 미리 설치가 되어 있어야 하며 그렇지 않다면 오류를 일으킨다. import가 성공적으로 이루어지면 아무런 메시지도 표시되지 않는다. 위의 3개는 각 패키지 전체를 불러오며, 아래처럼 각 패키지 안의 특정 모듈이나 함수 등을 별개로 불러낼 수도 있다. 각 패키지의 사용방법에 대해서는 이 교재의 다음 장들에서 각각 배우게 된다."
   ]
  }
 ],
 "metadata": {
  "kernelspec": {
   "display_name": "Python 3",
   "language": "python",
   "name": "python3"
  },
  "language_info": {
   "codemirror_mode": {
    "name": "ipython",
    "version": 3
   },
   "file_extension": ".py",
   "mimetype": "text/x-python",
   "name": "python",
   "nbconvert_exporter": "python",
   "pygments_lexer": "ipython3",
   "version": "3.5.3"
  }
 },
 "nbformat": 4,
 "nbformat_minor": 2
}
